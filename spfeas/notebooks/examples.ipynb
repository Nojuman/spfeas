{
 "cells": [
  {
   "cell_type": "markdown",
   "metadata": {},
   "source": [
    "## <span style=\"color:#0B3B2E;float:right;font-family:Calibri\">Jordan Graesser</span>\n",
    "\n",
    "# SpFeas usage examples\n",
    "---"
   ]
  },
  {
   "cell_type": "markdown",
   "metadata": {},
   "source": [
    "## <span style=\"color:blue\">SpFeas</span>\n",
    "---\n",
    "\n",
    "### Print help\n",
    "> spfeas -h\n",
    "\n",
    "### Print examples\n",
    "> spfeas -e\n",
    "\n",
    "### Compute the 'mean' with default settings\n",
    "#### Band=1; Block=2; Scales=8; Triggers='mean'\n",
    "> spfeas -i /your_image.tif -o /your_output_directory\n",
    "\n",
    "### Compute the 'mean' with custom settings\n",
    "#### Band=2; Block=4; Scales=8,16; Triggers='mean'\n",
    "> spfeas -i /your_image.tif -o /your_output_directory -tr mean -bp 2 --block 4 --scales 8 16\n",
    "\n",
    "### Compute the 'mean' & 'hog' with custom settings\n",
    "#### Band=2; Block=4; Scales=8,16; Triggers='mean', 'hog'\n",
    "> spfeas -i /your_image.tif -o /your_output_directory -tr mean hog -bp 2 --block 4 --scales 8 16\n",
    "\n",
    "### Compute the 'mean' & 'hog' with custom settings AND stack the results\n",
    "#### Band=2; Block=4; Scales=8,16; Triggers='mean', 'hog'\n",
    "> spfeas -i /your_image.tif -o /your_output_directory -tr mean hog -bp 2 --block 4 --scales 8 16 --stack\n",
    "\n",
    "### Compute the 'pantex'\n",
    "#### Band=2; Block=4; Scales=8,16; Triggers='pantex'\n",
    "> spfeas -i /your_image.tif -o /your_output_directory -tr pantex -bp 2 --block 4 --scales 8 16\n",
    "\n",
    "### Compute the 'dmp'\n",
    "#### Band=2; Block=4; Scales=8,16; Triggers='dmp'\n",
    "> spfeas -i /your_image.tif -o /your_output_directory -tr dmp -bp 2 --block 4 --scales 8 16"
   ]
  },
  {
   "cell_type": "markdown",
   "metadata": {},
   "source": [
    "## <span style=\"color:blue\">Density</span>\n",
    "---\n",
    "\n",
    "### Print help\n",
    "> density -h\n",
    "\n",
    "### Print examples\n",
    "> density -e"
   ]
  }
 ],
 "metadata": {
  "kernelspec": {
   "display_name": "Python 2",
   "language": "python",
   "name": "python2"
  },
  "language_info": {
   "codemirror_mode": {
    "name": "ipython",
    "version": 2
   },
   "file_extension": ".py",
   "mimetype": "text/x-python",
   "name": "python",
   "nbconvert_exporter": "python",
   "pygments_lexer": "ipython2",
   "version": "2.7.12"
  }
 },
 "nbformat": 4,
 "nbformat_minor": 0
}
