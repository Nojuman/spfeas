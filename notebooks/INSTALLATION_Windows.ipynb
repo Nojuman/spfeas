{
 "cells": [
  {
   "cell_type": "markdown",
   "metadata": {},
   "source": [
    "## <span style=\"color:#0B3B2E;float:right;font-family:Calibri\">Jordan Graesser</span>\n",
    "\n",
    "# Installation\n",
    "---"
   ]
  },
  {
   "cell_type": "markdown",
   "metadata": {},
   "source": [
    "---\n",
    "## <span style=\"color:blue\">Homebrew</span>\n",
    "> Homebrew is a package manager for Linux or Mac--it is *not* Python. The > sign indicates the following text is meant to be executed in the bash terminal. Do not include it as part of the command.\n",
    "\n",
    "### Installation prep\n",
    "\n",
    "1. Uninstall MacPorts (**if installed**) by following [this guide](https://guide.macports.org/chunked/installing.macports.uninstalling.html)\n",
    "2. Install or update XCode in the App Store\n",
    "    * After XCode has installed, agree to the license and install the command line tools using the bash terminal (Enter your computer password after executing the first line.):\n",
    "        > `> sudo xcodebuild -license`\n",
    "        \n",
    "        > `> xcode-select --install`\n",
    "3. Copy the PROFILE.txt file from files/ and save it as .profile in your home directory. E.g., \n",
    "    * Download the PROFILE.txt file.\n",
    "    * Move the file by:\n",
    "        > `> mv ~/Downloads/PROFILE.txt ~/.profile`\n",
    "    * Refresh the file by:\n",
    "        > `> cd`\n",
    "        \n",
    "        > `> source .profile`\n",
    "4. Install Homebrew\n",
    "    * Copy the installation line found on [Homebrew](http://brew.sh) and paste it in the bash terminal:\n",
    "    > `> /usr/bin/ruby -e \"$(curl -fsSL https://raw.githubusercontent.com/Homebrew/install/master/install)\"`\n",
    "    \n",
    "### Follow the instructions below that use a one-time installer, INSTALL.sh\n",
    "\n",
    "1. Download INSTALL.sh\n",
    "2. Download the SpFeas tarball.\n",
    "3. Open a bash terminal and move to the Downloads directory.\n",
    "    > `> cd ~/Downloads`\n",
    "4. Run the INSTALL.sh installer.\n",
    "    > `> INSTALL.sh`\n",
    "\n",
    "### Or, install packages step by step.\n",
    "    \n",
    "5. Tap necessary Homebrew kegs.\n",
    "    > `> brew tap osgeo/osgeo4mac`\n",
    "\n",
    "    > `> brew tap homebrew/science`\n",
    "    \n",
    "    > `> brew tap homebrew/versions` \n",
    "6. Install gcc\n",
    "    > `> brew install gcc`\n",
    "7. Install OpenCV   \n",
    "    > `> brew install opencv3`\n",
    "8. Install Libspatialindex\n",
    "    > `> brew install spatialindex`\n",
    "8. Install HDF 4 & 5                \n",
    "    > `> brew install hdf4 hdf5`     \n",
    "9. Install GDAL\n",
    "    * Uninstall previous GDAL versions and check for conflicts (see _Homebrew (managing packages)_ section below)\n",
    "    \n",
    "    > `> brew install gdal-20 --with-hdf4 --with-hdf5`\n",
    "    \n",
    "    > `> echo /usr/local/opt/gdal-20/lib/python2.7/site-packages >> /usr/local/lib/python2.7/site-packages/gdal-20.pth`\n",
    "    \n",
    "    > `> brew link --force gdal-20`    \n",
    "10. Install Python by running the two lines below.\n",
    "    > `> brew install python`\n",
    "    \n",
    "    > `> brew linkapps python`\n",
    "11. Download 3rd-party Python dependencies\n",
    "    > `> pip install beautifulsoup4 Bottleneck colorama cython joblib matplotlib numexpr numpy pandas psutil PySAL retrying Rtree scikit-image scikit-learn scipy six tables xmltodict`  "
   ]
  }
 ],
 "metadata": {
  "kernelspec": {
   "display_name": "Python 2",
   "language": "python",
   "name": "python2"
  },
  "language_info": {
   "codemirror_mode": {
    "name": "ipython",
    "version": 2
   },
   "file_extension": ".py",
   "mimetype": "text/x-python",
   "name": "python",
   "nbconvert_exporter": "python",
   "pygments_lexer": "ipython2",
   "version": "2.7.12"
  }
 },
 "nbformat": 4,
 "nbformat_minor": 0
}
