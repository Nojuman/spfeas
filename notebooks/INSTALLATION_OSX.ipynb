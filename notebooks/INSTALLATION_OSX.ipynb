{
 "cells": [
  {
   "cell_type": "markdown",
   "metadata": {},
   "source": [
    "## <span style=\"color:#0B3B2E;float:right;font-family:Calibri\">Jordan Graesser</span>\n",
    "\n",
    "# Installation\n",
    "---"
   ]
  },
  {
   "cell_type": "markdown",
   "metadata": {},
   "source": [
    "## <span style=\"color:blue\">Installing from the command line</span>\n",
    "> Below, the > sign indicates the following text is meant to be executed in the bash terminal. Do not include the sign as part of the command.\n",
    "    \n",
    "---\n",
    "### Follow the instructions below that use a one-time installer (INSTALL_OSX.sh)\n",
    "\n",
    "1. **If installed**, uninstall MacPorts by following [this guide](https://guide.macports.org/chunked/installing.macports.uninstalling.html). Otherwise, skip this step.\n",
    "2. Download the INSTALL_OSX.sh file under **/files** on the SpFeas GitHub main page. \n",
    "    * Save to **/Downloads**\n",
    "3. Download [the latest SpFeas tarball](https://github.com/jgrss/spfeas/releases) (e.g., SpFeas-0.0.1.tar.gz). \n",
    "    * Save to **/Downloads**\n",
    "4. Open a bash terminal and move to the **/Downloads** directory.\n",
    "    > `> cd ~/Downloads/`\n",
    "5. Make the INSTALL_OSX.sh file executable.\n",
    "    > `> chmod +x INSTALL_OSX.sh`\n",
    "6. Run the INSTALL_OSX.sh installer.\n",
    "    > `> ./INSTALL_OSX.sh`\n",
    "7. Type your computer password when prompted."
   ]
  },
  {
   "cell_type": "markdown",
   "metadata": {},
   "source": [
    "---\n",
    "### <span style=\"color:blue\">If you ran the INSTALL_OSX.sh installer above, the installation is complete, so STOP HERE</span>\n",
    "---"
   ]
  }
 ],
 "metadata": {
  "kernelspec": {
   "display_name": "Python 2",
   "language": "python",
   "name": "python2"
  },
  "language_info": {
   "codemirror_mode": {
    "name": "ipython",
    "version": 2
   },
   "file_extension": ".py",
   "mimetype": "text/x-python",
   "name": "python",
   "nbconvert_exporter": "python",
   "pygments_lexer": "ipython2",
   "version": "2.7.12"
  }
 },
 "nbformat": 4,
 "nbformat_minor": 0
}
