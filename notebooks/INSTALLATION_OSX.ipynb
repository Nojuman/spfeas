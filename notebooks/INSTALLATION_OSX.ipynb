{
 "cells": [
  {
   "cell_type": "markdown",
   "metadata": {},
   "source": [
    "## <span style=\"color:#0B3B2E;float:right;font-family:Calibri\">Jordan Graesser</span>\n",
    "\n",
    "# Installation\n",
    "---"
   ]
  },
  {
   "cell_type": "markdown",
   "metadata": {},
   "source": [
    "## <span style=\"color:blue\">Homebrew</span>\n",
    "> Homebrew is a package manager for Linux or Mac--it is *not* Python. The > sign indicates the following text is meant to be executed in the bash terminal. Do not include it as part of the command.\n",
    "    \n",
    "---\n",
    "### Installation prep\n",
    "\n",
    "1. **If installed**, uninstall MacPorts by following [this guide](https://guide.macports.org/chunked/installing.macports.uninstalling.html). Otherwise, skip this step.\n",
    "2. Install Homebrew\n",
    "    1. Open a bash terminal window. Search **'terminal'** in the **Finder**.\n",
    "    2. Copy the installation line found at [Homebrew's website](http://brew.sh) or below.\n",
    "        * /usr/bin/ruby -e \"$(curl -fsSL https://raw.githubusercontent.com/Homebrew/install/master/install)\"\n",
    "    3. Paste the line in the terminal window and hit enter.\n",
    "    \n",
    "<img src='brew.png', width=1000>\n",
    "\n",
    "---\n",
    "### Homebrew is installed after the screen has stopped printing\n",
    "---"
   ]
  },
  {
   "cell_type": "markdown",
   "metadata": {},
   "source": [
    "### Follow the instructions below that use a one-time installer, INSTALL_OSX.sh\n",
    "\n",
    "1. Download the INSTALL_OSX.sh file under **/files**. (Save to **/Downloads**)\n",
    "2. Download [the latest SpFeas tarball](https://github.com/jgrss/spfeas/releases). (Save to **/Downloads**)\n",
    "    * E.g., SpFeas-0.0.1.tar.gz\n",
    "3. Open a bash terminal and move to the **/Downloads** directory.\n",
    "    > `> cd ~/Downloads/`\n",
    "4. Make the INSTALL_OSX.sh file executable.\n",
    "    > `> chmod +x INSTALL_OSX.sh`\n",
    "5. Run the INSTALL_OSX.sh installer.\n",
    "    > `> ./INSTALL_OSX.sh`"
   ]
  },
  {
   "cell_type": "markdown",
   "metadata": {},
   "source": [
    "---\n",
    "### <span style=\"color:blue\">If you ran the INSTALL_OSX.sh installer above, STOP HERE</span>\n",
    "---"
   ]
  },
  {
   "cell_type": "markdown",
   "metadata": {},
   "source": [
    "### Otherwise, follow the instructions below to install packages step by step.\n",
    "    \n",
    "1. Tap necessary Homebrew kegs.\n",
    "    > `> brew tap osgeo/osgeo4mac`\n",
    "\n",
    "    > `> brew tap homebrew/science`\n",
    "    \n",
    "    > `> brew tap homebrew/versions` \n",
    "2. Install gcc\n",
    "    > `> brew install gcc`\n",
    "3. Install OpenCV   \n",
    "    > `> brew install opencv3`\n",
    "4. Install Libspatialindex\n",
    "    > `> brew install spatialindex`\n",
    "5. Install HDF 4 & 5                \n",
    "    > `> brew install hdf4 hdf5`     \n",
    "6. Install Python by running the two lines below.\n",
    "    > `> brew install python`\n",
    "    \n",
    "    > `> brew linkapps python`\n",
    "7. Download 3rd-party Python dependencies\n",
    "    > `> pip install beautifulsoup4 Bottleneck colorama cython joblib matplotlib numexpr numpy pandas psutil PySAL retrying Rtree scikit-image scikit-learn scipy six tables xmltodict`  \n",
    "8. Install GDAL\n",
    "    * Uninstall previous GDAL versions and check for conflicts (see _Homebrew (managing packages)_ section below)\n",
    "    \n",
    "    > `> brew install gdal2 --with-hdf4 --with-hdf5`\n",
    "    \n",
    "    > `> echo /usr/local/opt/gdal2/lib/python2.7/site-packages >> /usr/local/lib/python2.7/site-packages/gdal2.pth`\n",
    "    \n",
    "    > `> brew link --force gdal2`\n",
    "    \n",
    "### Installation prep\n",
    "\n",
    "1. If you have previously installed MacPorts, uninstall MacPorts (**if installed**) by following [this guide](https://guide.macports.org/chunked/installing.macports.uninstalling.html). Otherwise, skip this step.\n",
    "2. Install or update XCode in the App Store (Search XCode and install for free).\n",
    "3. After XCode has installed, use the 2 lines below in the bash terminal to agree to the license and install the command line tools \n",
    "    * Copy and paste the line below into the bash terminal, hit enter, and type your computer password.\n",
    "        > `> sudo xcodebuild -license`\n",
    "    * Copy and paste the line below into the bash terminal and hit enter\n",
    "        > `> xcode-select --install`\n",
    "4. Copy the PROFILE.txt file from **/files** and save it as **.profile** in your home directory.\n",
    "    * First, download the PROFILE.txt file.\n",
    "    * Move and rename the file by:\n",
    "        > `> mv ~/Downloads/PROFILE.txt ~/.profile`\n",
    "    * Refresh the file by:\n",
    "        > `> cd`\n",
    "        \n",
    "        > `> source .profile`\n",
    "5. Install Homebrew\n",
    "    * Copy the installation line found at [Homebrew's website](http://brew.sh) and paste it in the bash terminal:\n",
    "    > `> /usr/bin/ruby -e \"$(curl -fsSL https://raw.githubusercontent.com/Homebrew/install/master/install)\"`"
   ]
  },
  {
   "cell_type": "code",
   "execution_count": null,
   "metadata": {
    "collapsed": true
   },
   "outputs": [],
   "source": []
  }
 ],
 "metadata": {
  "kernelspec": {
   "display_name": "Python 2",
   "language": "python",
   "name": "python2"
  },
  "language_info": {
   "codemirror_mode": {
    "name": "ipython",
    "version": 2
   },
   "file_extension": ".py",
   "mimetype": "text/x-python",
   "name": "python",
   "nbconvert_exporter": "python",
   "pygments_lexer": "ipython2",
   "version": "2.7.12"
  }
 },
 "nbformat": 4,
 "nbformat_minor": 0
}
