{
 "cells": [
  {
   "cell_type": "markdown",
   "metadata": {},
   "source": [
    "## <span style=\"color:#0B3B2E;float:right;font-family:Calibri\">Jordan Graesser</span>\n",
    "\n",
    "# SpFeas usage examples\n",
    "---"
   ]
  },
  {
   "cell_type": "markdown",
   "metadata": {},
   "source": [
    "## <span style=\"color:blue\">SpFeas</span>\n",
    "---\n",
    "\n",
    "### Print help\n",
    "> spfeas -h\n",
    "\n",
    "### Print examples\n",
    "> spfeas -e\n",
    "\n",
    "### Compute the Mean with default settings\n",
    "* Band=1; Block=2; Scales=8; Triggers='mean'\n",
    "> spfeas -i /your_image.tif -o /your_output_directory\n",
    "\n",
    "### Compute the Mean with custom settings\n",
    "* Band=2; Block=4; Scales=8,16; Triggers='mean'\n",
    "> spfeas -i /your_image.tif -o /your_output_directory -tr mean -bp 2 --block 8 --scales 8 16\n",
    "\n",
    "### Compute the Mean & Histogram of Oriented Gradients with custom settings\n",
    "* Band=2; Block=4; Scales=8,16; Triggers='mean', 'hog'\n",
    "> spfeas -i /your_image.tif -o /your_output_directory -tr mean hog -bp 2 --block 8 --scales 8 16\n",
    "\n",
    "### Compute the Mean & Histogram of Oriented Gradients with custom settings AND stack the results\n",
    "* Band=2; Block=4; Scales=8,16; Triggers='mean', 'hog'\n",
    "> spfeas -i /your_image.tif -o /your_output_directory -tr mean hog -bp 2 --block 8 --scales 8 16 --stack\n",
    "\n",
    "### Compute the PanTex\n",
    "* Band=2; Block=4; Scales=8,16; Triggers='pantex'\n",
    "> spfeas -i /your_image.tif -o /your_output_directory -tr pantex -bp 2 --block 8 --scales 8 16\n",
    "\n",
    "### Compute the Differential Morphological Profiles\n",
    "* Band=2; Block=4; Scales=8,16; Triggers='dmp'\n",
    "> spfeas -i /your_image.tif -o /your_output_directory -tr dmp -bp 2 --block 8 --scales 8 16\n",
    "\n",
    "### Compute the Structural Feature Sets\n",
    "* The sfs feature should be computed differently from all other features.\n",
    "* The sfs feature will not automatically use an entire scale window, so there is no need to give multiple scales.\n",
    "* Use a large scale. It is best to use the largest scale used in other features.\n",
    "* Use a small block size and with resampling. \n",
    "* In this example, we are computing `sfs` with a block size of 2x2 at a scale of 128x128. After processing, the `sfs` features will be resampled to 16m x 16m cell size.\n",
    "> spfeas -i /your_image.tif -o /your_output_directory -tr sfs --rgb --block 2 --scales 128 -sfs-rs 16\n",
    "\n",
    "### Choosing input bands\n",
    "* By default, `spfeas` will use band 1 of the input image.\n",
    "* If the input image is a 3-band (or more) image, with the visible spectrum in the first 3 bands, you can use the entire spectrum.\n",
    "* Using the `--rgb` parameter tells `spfeas` to take the average over the entire visible spectrum.\n",
    "* If `--rgb` is called, it will replace the `-bp` parameter.\n",
    "* In this example, we compute the `mean` with the RGB average.\n",
    "> spfeas -i /your_image.tif -o /your_output_directory -tr mean --rgb\n",
    "\n",
    "### Stacking processed features\n",
    "* Use the same input image and output directory that were used to process the features.\n",
    "* Choose the block and scale parameters that you wish to stack.\n",
    "* In this command, any feature in the output directory that has been processed with a block size of 8x8 and scales of 8x8, 16x16, and 128x128 will be stacked. All other (if they exist) features will be left out.\n",
    "> spfeas -i /your_image.tif -o /your_output_directory --rgb --block 8 --scales 8 16 128 --stack-only"
   ]
  },
  {
   "cell_type": "markdown",
   "metadata": {},
   "source": [
    "## <span style=\"color:blue\">Sampling</span>\n",
    "---\n",
    "\n",
    "### Print help\n",
    "> sample-raster -h\n",
    "\n",
    "### Print examples\n",
    "> sample-raster -e\n",
    "\n",
    "### Sample an image\n",
    "* Use a polygon or point shapefile of land cover categories to sample an image or feature stack. Below, `-s` is the input shapefile, `-i` is the input image to sample, and `-o` is the output directory to save the sample text files to.\n",
    "> sample-raster -s land_cover_samples.shp -i feature_image.vrt -o output_samples_dir"
   ]
  },
  {
   "cell_type": "markdown",
   "metadata": {},
   "source": [
    "## <span style=\"color:blue\">Image classification</span>\n",
    "---\n",
    "\n",
    "### Print help\n",
    "> classify -h\n",
    "\n",
    "### Print examples\n",
    "> classify -e\n",
    "\n",
    "### Train and save a model\n",
    "* Below, we are training a Random Forest (`RF`) classifier with 100 `trees` and saving the model `--output-model` to file (RF_model.txt).\n",
    "> classify -s /output_samples_dir/name_of_samples.txt --output-model /RF_model.txt --classifier-info \"{'classifier': 'RF', 'trees': 100}\"\n",
    "\n",
    "### Classify an image\n",
    "* Below, we use the model trained in the previous step to classify an image.\n",
    "* Notice that we have now added the input image to classiy and the output mapped image.\n",
    "* Also, we have now set `--input-model` instead of `--output-model`.\n",
    "> classify -i feature_image.vrt -o output_map.tif -s output_samples_dir/name_of_samples.txt --input-model /RF_model.txt --classifier-info \"{'classifier': 'RF'}\"\n",
    "\n",
    "### Train a model and classify an image\n",
    "* Here we are training the model and classify an image in one step (previous two steps put together).\n",
    "> classify -i feature_image.vrt -o output_map.tif -s output_samples_dir/name_of_samples.txt --output-model /RF_model.txt --classifier-info \"{'classifier': 'RF'}\""
   ]
  },
  {
   "cell_type": "markdown",
   "metadata": {},
   "source": [
    "## <span style=\"color:blue\">Reclassification of thematic maps</span>\n",
    "---\n",
    "\n",
    "### Print help\n",
    "> reclassify -h\n",
    "\n",
    "### Print examples\n",
    "> reclassify -e\n",
    "\n",
    "### Reclassify a thematic map\n",
    "* Here we want to reclassify all values of 10 to 9.\n",
    "> reclassify -i /input_map.tif -o /reclassified_map.tif -r \"{10:9}\"\n",
    "\n",
    "* In this example we are reclassifying 1 to 2 and 3 to 2.\n",
    "> reclassify -i /input_map.tif -o /reclassified_map.tif -r \"{1:2, 3:2}\""
   ]
  },
  {
   "cell_type": "markdown",
   "metadata": {},
   "source": [
    "## <span style=\"color:blue\">Recoding thematic maps</span>\n",
    "---\n",
    "\n",
    "* The `recode` tool is used when the user has specific areas of a thematic map that need reclassified (or cleaned).\n",
    "* The user can specify polygons and recode rules for specific areas on a map.\n",
    "\n",
    "### Print help\n",
    "> recode -h\n",
    "\n",
    "### Print examples\n",
    "> recode -e\n",
    "\n",
    "### Recode a thematic map\n",
    "* In this example, we use a polygon shapefile with a set of recode rules.\n",
    "* The `-c` parameter is used to tell the `recode` tool which polygon id column to use.\n",
    "* The `--rules` tell the `recode` tool where and what to reclassify.\n",
    "* Walking through the recode rules: 1) The first key positions (1 and 2) tell the `recode` tool which polygon feature to process; 2) The second set of key positions (e.g., {5:4} and {2:1, 3:4}) tell the `recode` rule which classes to reclassify.\n",
    "* In feature 1, reclassify class 5 to 4.\n",
    "* In feature 2, relcassify class 2 to 1, and reclassify 3 to 4.\n",
    "> recode -p /polygon.shp -i /input_map.tif -o /reclassified_map.tif -c Id --rules \"{1: {5:4}, 2: {2:1, 3:4}}\""
   ]
  }
 ],
 "metadata": {
  "kernelspec": {
   "display_name": "Python 2",
   "language": "python",
   "name": "python2"
  },
  "language_info": {
   "codemirror_mode": {
    "name": "ipython",
    "version": 2
   },
   "file_extension": ".py",
   "mimetype": "text/x-python",
   "name": "python",
   "nbconvert_exporter": "python",
   "pygments_lexer": "ipython2",
   "version": "2.7.12"
  }
 },
 "nbformat": 4,
 "nbformat_minor": 0
}
