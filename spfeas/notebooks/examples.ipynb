{
 "cells": [
  {
   "cell_type": "markdown",
   "metadata": {},
   "source": [
    "## <span style=\"color:#0B3B2E;float:right;font-family:Calibri\">Jordan Graesser</span>\n",
    "\n",
    "# SpFeas usage examples\n",
    "---"
   ]
  },
  {
   "cell_type": "markdown",
   "metadata": {},
   "source": [
    "## <span style=\"color:blue\">SpFeas</span>\n",
    "---\n",
    "\n",
    "### Print help\n",
    "> spfeas -h\n",
    "\n",
    "### Print examples\n",
    "> spfeas -e\n",
    "\n",
    "### Compute the 'mean' with default settings\n",
    "#### Band=1; Block=2; Scales=8; Triggers='mean'\n",
    "> spfeas -i /your_image.tif -o /your_output_directory\n",
    "\n",
    "### Compute the 'mean' with custom settings\n",
    "#### Band=2; Block=4; Scales=8,16; Triggers='mean'\n",
    "> spfeas -i /your_image.tif -o /your_output_directory -tr mean -bp 2 --block 4 --scales 8 16\n",
    "\n",
    "### Compute the 'mean' & 'hog' with custom settings\n",
    "#### Band=2; Block=4; Scales=8,16; Triggers='mean', 'hog'\n",
    "> spfeas -i /your_image.tif -o /your_output_directory -tr mean hog -bp 2 --block 4 --scales 8 16\n",
    "\n",
    "### Compute the 'mean' & 'hog' with custom settings AND stack the results\n",
    "#### Band=2; Block=4; Scales=8,16; Triggers='mean', 'hog'\n",
    "> spfeas -i /your_image.tif -o /your_output_directory -tr mean hog -bp 2 --block 4 --scales 8 16 --stack\n",
    "\n",
    "### Compute the 'pantex'\n",
    "#### Band=2; Block=4; Scales=8,16; Triggers='pantex'\n",
    "> spfeas -i /your_image.tif -o /your_output_directory -tr pantex -bp 2 --block 4 --scales 8 16\n",
    "\n",
    "### Compute the 'dmp'\n",
    "#### Band=2; Block=4; Scales=8,16; Triggers='dmp'\n",
    "> spfeas -i /your_image.tif -o /your_output_directory -tr dmp -bp 2 --block 4 --scales 8 16"
   ]
  },
  {
   "cell_type": "markdown",
   "metadata": {},
   "source": [
    "## <span style=\"color:blue\">Sampling</span>\n",
    "---\n",
    "\n",
    "### Print help\n",
    "> sample-raster -h\n",
    "\n",
    "### Print examples\n",
    "> sample-raster -e\n",
    "\n",
    "### Sample an image\n",
    "Use a polygon or point shapefile of land cover categories to sample an image or feature stack. Below, -s is the input shapefile, -i is the input image to sample, and -o is the output directory to save the sample text files to.\n",
    "> sample-raster -s land_cover_samples.shp -i feature_image.vrt -o output_samples_dir"
   ]
  },
  {
   "cell_type": "markdown",
   "metadata": {},
   "source": [
    "## <span style=\"color:blue\">Image classification</span>\n",
    "---\n",
    "\n",
    "### Print help\n",
    "> classify -h\n",
    "\n",
    "### Print examples\n",
    "> classify -e\n",
    "\n",
    "### Train and save a model\n",
    "Below, we are training a Random Forest classifier with 100 trees and saving it to file (RF_model.txt).\n",
    "> classify -i /feature_image.vrt -s /output_samples_dir/name_of_samples.txt --output-model /RF_model.txt --classifier-info \"{'classifier': 'RF', 'trees': 100}\"\n",
    "\n",
    "### Classify an image\n",
    "Below, we use the model trained in the previous step to classify an image.\n",
    "> classify -i feature_image.vrt -o output_map.tif -s output_samples_dir/name_of_samples.txt --input-model /RF_model.txt --classifier-info \"{'classifier': 'RF'}\"\n",
    "\n",
    "### Train a model and classify an image\n",
    "Here we are training the model and classifying an image in one step (previous two steps put together).\n",
    "> classify -i feature_image.vrt -o output_map.tif -s output_samples_dir/name_of_samples.txt --output-model /RF_model.txt --classifier-info \"{'classifier': 'RF'}\""
   ]
  },
  {
   "cell_type": "markdown",
   "metadata": {},
   "source": [
    "## <span style=\"color:blue\">Reclassification</span>\n",
    "---\n",
    "\n",
    "### Print help\n",
    "> reclassify -h\n",
    "\n",
    "### Print examples\n",
    "> reclassify -e\n",
    "\n",
    "### Reclassify a thematic map\n",
    "Here we want to reclassify all values of 10 to 9.\n",
    "> reclassify -i /input_map.tif -o /reclassified_map.tif -r \"{10:9}\"\n",
    "\n",
    "In this example we are reclassifying 1 to 2 and 3 to 2.\n",
    "> reclassify -i /input_map.tif -o /reclassified_map.tif -r \"{1:2, 3:2}\""
   ]
  }
 ],
 "metadata": {
  "kernelspec": {
   "display_name": "Python 2",
   "language": "python",
   "name": "python2"
  },
  "language_info": {
   "codemirror_mode": {
    "name": "ipython",
    "version": 2
   },
   "file_extension": ".py",
   "mimetype": "text/x-python",
   "name": "python",
   "nbconvert_exporter": "python",
   "pygments_lexer": "ipython2",
   "version": "2.7.12"
  }
 },
 "nbformat": 4,
 "nbformat_minor": 0
}
