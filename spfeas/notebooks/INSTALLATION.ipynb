{
 "cells": [
  {
   "cell_type": "markdown",
   "metadata": {},
   "source": [
    "## <span style=\"color:#0B3B2E;float:right;font-family:Calibri\">Jordan Graesser</span>\n",
    "\n",
    "# Follow the instructions below to install SpFeas\n",
    "---"
   ]
  },
  {
   "cell_type": "markdown",
   "metadata": {},
   "source": [
    "## <span style=\"color:blue\">Python</span>\n",
    "---\n",
    "\n",
    "### <span style=\"color:green\">Python needs to be installed before running SpFeas</span>\n",
    "If you know that you have Python installed, skip this section.\n",
    "\n",
    "#### Python on OSX\n",
    "1. Check if Python is installed.\n",
    "    > which python\n",
    "2. I recommend installing Python with [Homebrew](http://brew.sh/).\n",
    "    > brew install python\n",
    "\n",
    "#### Python on Windows\n",
    "1. Check if Python is installed.\n",
    "    > where python\n",
    "2. I recommend installing Python with [Anaconda](https://www.continuum.io/downloads)."
   ]
  },
  {
   "cell_type": "markdown",
   "metadata": {},
   "source": [
    "## <span style=\"color:blue\">Installing SpFeas on OSX</span>\n",
    "---\n",
    "\n",
    "### <span style=\"color:green\">Installing from the bash terminal window</span>\n",
    "> The terminal window can be found under Applications/Utilities. You can open it by typing 'terminal' in the **Spotlight search**. \n",
    "\n",
    "1. **If installed**, uninstall MacPorts by following [this guide](https://guide.macports.org/chunked/installing.macports.uninstalling.html). Otherwise, skip this step.\n",
    "2. Download the INSTALL_OSX.sh file at [SpFeas GitHub page](https://github.com/jgrss/spfeas/tree/master/spfeas/files). \n",
    "    * Save to the **/Downloads** folder on your local machine\n",
    "3. Open a bash terminal and move to the **/Downloads** directory by typing or copying the command below into the terminal window (hit **return** to execute).\n",
    "    > `cd ~/Downloads/`\n",
    "4. Make the INSTALL_OSX.sh file executable by typing or copying the command below into the terminal window (hit **return** to execute).\n",
    "    > `chmod +x INSTALL_OSX.sh`\n",
    "5. Run the INSTALL_OSX.sh installer by typing or copying the command below into the terminal window (hit **return** to execute).\n",
    "    > `./INSTALL_OSX.sh`\n",
    "6. Command line prompts\n",
    "    * When prompted, hit **enter**, type **y**, or type your **computer password** or **GitHub username and password** to continue the installation process.\n",
    "    * Note that your password will not be shown on the screen when you type."
   ]
  },
  {
   "cell_type": "markdown",
   "metadata": {},
   "source": [
    "## <span style=\"color:blue\">Installing SpFeas on Windows</span>\n",
    "---\n",
    "\n",
    "### <span style=\"color:green\">Installing from the Windows Command Prompt</span>\n",
    "> The command prompt can be found under the Start menu. Open it by typing 'cmd' in the **search box**. \n",
    "\n",
    "1. Download the following wheel files from [Gohlke's site](http://www.lfd.uci.edu/~gohlke/pythonlibs/) and save them to C:\\Downloads.\n",
    "\n",
    "    > numpy-1.11.2+mkl-cp27-cp27m-win32.whl \n",
    "    \n",
    "    > Bottleneck-1.2.0-cp27-cp27m-win32.whl\n",
    "    \n",
    "    > numexpr-2.6.1-cp27-cp27m-win32.whl \n",
    "    \n",
    "    > scikit_image-0.12.3-cp27-cp27m-win32.whl \n",
    "    \n",
    "    > scipy-0.18.1-cp27-cp27m-win32.whl \n",
    "    \n",
    "    > tables-3.3.0-cp27-cp27m-win32.whl\n",
    "    \n",
    "    > GDAL-2.0.3-cp27-cp27m-win32.whl\n",
    "    \n",
    "    > statsmodels-0.8.0rc1-cp27-cp27m-win32.whl\n",
    "    \n",
    "2. Either download [git for Windows](https://www.atlassian.com/git/tutorials/install-git/mac-os-x) **OR** download the [MpGlue](https://github.com/jgrss/mpglue/releases) and [SpFeas](https://github.com/jgrss/spfeas/releases) tarballs. \n",
    "    * If you choose to download and configure **git**, then you DO NOT need to download the MpGlue and SpFeas tarballs.\n",
    "    * Without **git**, you need to have the MpGlue and SpFeas tarballs downloaded for the installer to find them.\n",
    "    * Save the tarballs to C:\\Downloads.\n",
    "    \n",
    "3. Download the INSTALL_Windows.sh file at [SpFeas GitHub page](https://github.com/jgrss/spfeas/tree/master/spfeas/files). \n",
    "    * Save to the **C:\\Downloads** folder on your local machine\n",
    "4. Open a command prompt window and move to the **C:\\Downloads** directory by typing or copying the command below into the window (hit **return** to execute).\n",
    "    > `cd C:\\Downloads`\n",
    "5. Run the INSTALL_Windows.cmd installer by typing or copying the command below into the terminal window (hit **return** to execute).\n",
    "    > `INSTALL_Windows.cmd`\n",
    "6. Command line prompts\n",
    "    * When prompted, hit **enter**, type **y**, or type your **computer password** or **GitHub username and password** to continue the installation process.\n",
    "    * Note that your password will not be shown on the screen when you type."
   ]
  },
  {
   "cell_type": "markdown",
   "metadata": {},
   "source": [
    "---\n",
    "### <span style=\"color:blue\">The installation is complete when the screen has stopped printing and it says 'The installation has finished!'</span>\n",
    "---"
   ]
  }
 ],
 "metadata": {
  "kernelspec": {
   "display_name": "Python 2",
   "language": "python",
   "name": "python2"
  },
  "language_info": {
   "codemirror_mode": {
    "name": "ipython",
    "version": 2
   },
   "file_extension": ".py",
   "mimetype": "text/x-python",
   "name": "python",
   "nbconvert_exporter": "python",
   "pygments_lexer": "ipython2",
   "version": "2.7.12"
  }
 },
 "nbformat": 4,
 "nbformat_minor": 0
}
